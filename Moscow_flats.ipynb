{
 "cells": [
  {
   "cell_type": "markdown",
   "metadata": {},
   "source": [
    "## Регрессия от нескольких параметров \n",
    "Y (зависимая переменная), X1 X2 X3...\n",
    "\n",
    "O = sum(Xi)/n - sum(Yi)/n\n",
    "\n",
    "для множества параметров: сделать матрицу Х, транспонировать её, и умножить на Х\n",
    "\n",
    "**X(T)*X** = M квадратная матрица размера количества параметров (transpose)\n",
    "\n",
    "**M^(-1)** - найти обратную матрицу np.inverse (вычеркивать повтояющиеся параметра, например, общую площадь, если уже даны площади комнат отдельно)\n",
    "\n",
    "**X(T) * Y = P**\n",
    "\n",
    "**P * M^(-1)** - вектор с параметрами, по этим параметрам найти стоимость какой-то квартиры Y = a1X1 + a2X2\n",
    "\n",
    "осень - 3хкомн, лето - 2хкомн квартиры\n",
    "\n",
    "на сколько увелич-ся цена при увел-ии квадрат метра? - эластичность "
   ]
  },
  {
   "cell_type": "code",
   "execution_count": 3,
   "metadata": {},
   "outputs": [],
   "source": [
    "import pandas as pd\n",
    "\n",
    "# Assign spreadsheet filename to `file`\n",
    "file = 'Flats.xls'\n",
    "\n",
    "# Load spreadsheet\n",
    "xl = pd.ExcelFile(file)\n",
    "\n",
    "# Load a sheet into a DataFrame by name: df1\n",
    "data = xl.parse('Лист1')"
   ]
  },
  {
   "cell_type": "markdown",
   "metadata": {},
   "source": [
    "Подготовка данных. Нам понадобятся следующие столбцы:\n",
    "\n",
    "2 - цена, тыс. долларов; \n",
    "\n",
    "5 - жилая площадь, кв.м; \n",
    "\n",
    "6 - площадь подсобных помещений, кв.м; \n",
    "\n",
    "7 - площадь кухни и туалета, кв.м; \n",
    "\n",
    "8 - расстояние до центра, км; \n",
    "\n",
    "9 - время, затрачиваемое на дорогу до ближайшей станции метро, мин.;\n",
    "\n",
    "Строится зависимость параметра 2 от параметров 5-9, поэтому параметр 2 выносим в вектор Y, а остальные - складываем в новый датафрейм. Также учитываем только 3-х комнатные квартиры."
   ]
  },
  {
   "cell_type": "code",
   "execution_count": 4,
   "metadata": {},
   "outputs": [
    {
     "data": {
      "text/html": [
       "<div>\n",
       "<style scoped>\n",
       "    .dataframe tbody tr th:only-of-type {\n",
       "        vertical-align: middle;\n",
       "    }\n",
       "\n",
       "    .dataframe tbody tr th {\n",
       "        vertical-align: top;\n",
       "    }\n",
       "\n",
       "    .dataframe thead th {\n",
       "        text-align: right;\n",
       "    }\n",
       "</style>\n",
       "<table border=\"1\" class=\"dataframe\">\n",
       "  <thead>\n",
       "    <tr style=\"text-align: right;\">\n",
       "      <th></th>\n",
       "      <th>FREE</th>\n",
       "      <th>LIVSQ</th>\n",
       "      <th>APPEN</th>\n",
       "      <th>KITSQ</th>\n",
       "      <th>DIST</th>\n",
       "      <th>METRDIST</th>\n",
       "    </tr>\n",
       "  </thead>\n",
       "  <tbody>\n",
       "    <tr>\n",
       "      <th>288</th>\n",
       "      <td>1</td>\n",
       "      <td>54.0</td>\n",
       "      <td>16.5</td>\n",
       "      <td>9.5</td>\n",
       "      <td>7.895</td>\n",
       "      <td>7.0</td>\n",
       "    </tr>\n",
       "    <tr>\n",
       "      <th>289</th>\n",
       "      <td>1</td>\n",
       "      <td>52.0</td>\n",
       "      <td>22.6</td>\n",
       "      <td>8.4</td>\n",
       "      <td>6.600</td>\n",
       "      <td>4.0</td>\n",
       "    </tr>\n",
       "    <tr>\n",
       "      <th>290</th>\n",
       "      <td>1</td>\n",
       "      <td>39.5</td>\n",
       "      <td>13.3</td>\n",
       "      <td>8.0</td>\n",
       "      <td>16.500</td>\n",
       "      <td>10.0</td>\n",
       "    </tr>\n",
       "    <tr>\n",
       "      <th>291</th>\n",
       "      <td>1</td>\n",
       "      <td>53.0</td>\n",
       "      <td>10.7</td>\n",
       "      <td>8.3</td>\n",
       "      <td>1.840</td>\n",
       "      <td>10.0</td>\n",
       "    </tr>\n",
       "    <tr>\n",
       "      <th>292</th>\n",
       "      <td>1</td>\n",
       "      <td>63.0</td>\n",
       "      <td>18.0</td>\n",
       "      <td>7.0</td>\n",
       "      <td>1.650</td>\n",
       "      <td>10.0</td>\n",
       "    </tr>\n",
       "  </tbody>\n",
       "</table>\n",
       "</div>"
      ],
      "text/plain": [
       "     FREE  LIVSQ  APPEN  KITSQ    DIST  METRDIST\n",
       "288     1   54.0   16.5    9.5   7.895       7.0\n",
       "289     1   52.0   22.6    8.4   6.600       4.0\n",
       "290     1   39.5   13.3    8.0  16.500      10.0\n",
       "291     1   53.0   10.7    8.3   1.840      10.0\n",
       "292     1   63.0   18.0    7.0   1.650      10.0"
      ]
     },
     "execution_count": 4,
     "metadata": {},
     "output_type": "execute_result"
    }
   ],
   "source": [
    "def dataPreparation(data):\n",
    "    '''\n",
    "    Подготовка данных. Оставляются только необходимые для предсказания параметры, и добавляется единичный столбец \n",
    "    для нахождения коэффициентов линейной регресии.\n",
    "    Входной аргумент - DataFrame. Возвращаются новый DataFrame с необходимыми параметрами и вектор, \n",
    "    для которого строится зависимость'''\n",
    "    \n",
    "    data_regr = data[data['ROOM'] == 3]\n",
    "    Y = data_regr[\"PRICE\"]\n",
    "    data_regr = data_regr.drop([\"WALK\", \"BRICK\", \"TEL\", \"BAL\", \"FLOOR\", \"ROOM\", \"PRICE\"], axis = 1, inplace = False)\n",
    "    data_regr.insert(0, 'FREE', 1)\n",
    "    return data_regr, Y\n",
    "\n",
    "\n",
    "data_regr, Y = dataPreparation(data)\n",
    "data_regr.head()\n"
   ]
  },
  {
   "attachments": {
    "image.png": {
     "image/png": "[encoded data removed]"
    }
   },
   "cell_type": "markdown",
   "metadata": {},
   "source": [
    "Найдём вектор с коэффициентами для множественной регрессии вида: ![image.png](attachment:image.png) "
   ]
  },
  {
   "attachments": {
    "image.png": {
     "image/png": "[encoded data removed]"
    }
   },
   "cell_type": "markdown",
   "metadata": {},
   "source": [
    "Следующим образом: ![image.png](attachment:image.png)\n",
    "**X(T)*X** = M квадратная матрица размера количества параметров (transpose)\n",
    "\n",
    "**M^(-1)** - найти обратную матрицу np.inverse (вычеркивать повтояющиеся параметра, например, общую площадь, если уже даны площади комнат отдельно)\n",
    "\n",
    "**X(T) * Y = P**\n",
    "\n",
    "**P * M^(-1)** - вектор с параметрами, по этим параметрам найти стоимость какой-то квартиры Y = a1X1 + a2X2\n",
    "\n",
    "осень - 3хкомн\n"
   ]
  },
  {
   "cell_type": "code",
   "execution_count": 5,
   "metadata": {},
   "outputs": [
    {
     "name": "stdout",
     "output_type": "stream",
     "text": [
      "Vector =  [-6.01612593e+01  1.95335503e+00  1.49056700e+00  4.92103501e+00\n",
      " -1.48265326e+00  3.45591740e-03]\n"
     ]
    }
   ],
   "source": [
    "import numpy as np\n",
    "\n",
    "def findKoef(data_regr):\n",
    "    '''\n",
    "    Вычисление коэффициентов уравнения множественно регрессии.\n",
    "    Входной аргмент - dataframe с параметрами, необходимыми для предсказания - преобразовывается в Numpy array.\n",
    "    Возвращается вектор с коэффициентами и numpy array'''\n",
    "\n",
    "    X = data_regr.to_numpy()\n",
    "    X_T = X.transpose()  # транспонировали матрицу X\n",
    "    M = np.dot(X_T, X)  # умножили X-трансп на Х\n",
    "    M = np.linalg.inv(M) # нашли обратную\n",
    "    P = np.dot(X_T, Y) # умножили Х-трансп на вектор Y\n",
    "    P = np.dot(M, P) # (X-трансп на Х)*(Х-трансп на вектор Y)\n",
    "    return P, X\n",
    "\n",
    "P, X = findKoef(data_regr)\n",
    "print(\"Vector = \", P) # вектор параметров - первый это свободный член"
   ]
  },
  {
   "cell_type": "markdown",
   "metadata": {},
   "source": [
    "### Предсказание цены с помощью полученных коэффициентов"
   ]
  },
  {
   "cell_type": "code",
   "execution_count": 6,
   "metadata": {},
   "outputs": [
    {
     "name": "stdout",
     "output_type": "stream",
     "text": [
      "104.98 - 75.0\n",
      "106.67 - 110.0\n",
      "51.76 - 63.0\n",
      "97.47 - 101.0\n",
      "121.77 - 142.0\n",
      "100.48 - 100.0\n",
      "92.82 - 103.0\n",
      "29.03 - 40.5\n",
      "33.94 - 47.0\n",
      "54.71 - 40.5\n",
      "89.33 - 65.0\n",
      "77.41 - 76.0\n",
      "96.2 - 93.0\n",
      "49.01 - 47.0\n",
      "56.62 - 53.0\n",
      "99.65 - 86.0\n",
      "97.23 - 115.0\n",
      "78.99 - 82.0\n",
      "59.9 - 53.0\n",
      "42.36 - 40.0\n",
      "48.75 - 57.0\n",
      "84.74 - 58.0\n",
      "49.88 - 48.0\n",
      "102.75 - 71.0\n",
      "83.53 - 55.0\n",
      "67.34 - 56.5\n",
      "95.7 - 133.0\n",
      "105.12 - 185.0\n",
      "91.92 - 94.0\n",
      "75.55 - 61.5\n",
      "55.27 - 56.0\n",
      "125.61 - 112.0\n",
      "157.1 - 255.0\n",
      "88.75 - 88.0\n",
      "122.09 - 75.0\n",
      "51.53 - 41.0\n",
      "50.4 - 51.0\n",
      "84.79 - 60.0\n",
      "67.47 - 74.5\n",
      "52.86 - 49.0\n",
      "87.62 - 58.0\n",
      "70.68 - 67.0\n",
      "65.78 - 62.0\n",
      "63.23 - 67.0\n",
      "97.73 - 53.0\n",
      "92.5 - 53.8\n",
      "44.02 - 52.0\n",
      "52.68 - 69.0\n",
      "93.98 - 112.5\n",
      "103.37 - 81.0\n",
      "51.13 - 53.0\n",
      "113.08 - 95.0\n",
      "98.24 - 86.0\n",
      "109.28 - 80.0\n",
      "44.12 - 58.0\n",
      "85.69 - 65.0\n",
      "55.59 - 49.5\n",
      "80.04 - 66.0\n",
      "43.83 - 52.0\n",
      "89.01 - 95.0\n",
      "95.18 - 85.0\n",
      "76.42 - 89.0\n",
      "61.98 - 59.5\n",
      "86.52 - 95.5\n",
      "124.77 - 80.0\n",
      "81.17 - 80.0\n",
      "104.98 - 145.0\n",
      "80.2 - 74.0\n",
      "95.88 - 83.0\n",
      "87.24 - 120.0\n",
      "98.8 - 89.0\n",
      "118.53 - 135.0\n",
      "148.14 - 125.0\n",
      "65.25 - 48.0\n",
      "55.72 - 69.0\n",
      "60.38 - 69.0\n",
      "83.96 - 90.0\n",
      "143.05 - 165.0\n",
      "105.32 - 207.0\n",
      "94.79 - 95.5\n",
      "101.65 - 111.5\n",
      "90.66 - 122.0\n",
      "103.46 - 105.0\n",
      "53.52 - 87.0\n",
      "51.74 - 87.0\n",
      "176.73 - 240.0\n",
      "125.02 - 145.0\n",
      "43.16 - 38.0\n",
      "88.51 - 103.0\n",
      "60.19 - 58.5\n",
      "91.64 - 106.0\n",
      "53.77 - 35.0\n",
      "52.09 - 58.0\n",
      "45.96 - 58.0\n",
      "88.13 - 69.0\n",
      "85.18 - 90.5\n",
      "62.66 - 68.0\n",
      "127.7 - 89.0\n",
      "127.01 - 117.0\n",
      "89.56 - 76.0\n",
      "50.96 - 78.0\n",
      "95.07 - 112.0\n",
      "113.43 - 77.0\n",
      "118.9 - 92.0\n",
      "79.44 - 89.0\n",
      "112.2 - 107.0\n",
      "90.15 - 75.0\n",
      "81.3 - 64.0\n",
      "92.95 - 86.0\n",
      "88.68 - 62.0\n",
      "117.4 - 110.0\n",
      "88.05 - 78.0\n",
      "51.53 - 67.0\n",
      "123.45 - 108.0\n",
      "74.9 - 95.0\n",
      "113.24 - 106.0\n",
      "59.37 - 62.0\n",
      "85.51 - 64.0\n",
      "115.99 - 93.0\n",
      "89.05 - 92.0\n"
     ]
    }
   ],
   "source": [
    "def printPrice(X, P, Y):\n",
    "    '''\n",
    "    Вывод предсказанного на основе параметров значения и вывод настоящего в форме X - Y.\n",
    "    Входные аргументы - numpy array с параметрами, необходимыми для предсказания, вектор коэффициентов, вектор с ценой'''\n",
    " \n",
    "    sum_of_parametres = 0\n",
    "    for j in range(len(X)):\n",
    "        for i in range(0, 6):\n",
    "            sum_of_parametres += X[j][i]*P[i]\n",
    "        print(round(sum_of_parametres, 2) , \"-\", Y[j+288])\n",
    "        sum_of_parametres = 0\n",
    "        \n",
    "printPrice(X,P,Y)"
   ]
  },
  {
   "cell_type": "markdown",
   "metadata": {},
   "source": [
    "### Задача в терминах эластичности. \n",
    "Чтобы узнать, как изменится цена при увеличении площади на 1%, нужно взять логарифм от изначальных данных и вывести новые коэффициенты для уравнения линейной регрессии. "
   ]
  },
  {
   "cell_type": "code",
   "execution_count": 7,
   "metadata": {},
   "outputs": [
    {
     "name": "stdout",
     "output_type": "stream",
     "text": [
      "Vector elast =  [ 0.77539917  0.27598735  0.43774687 -0.15316117  0.00809658]\n"
     ]
    }
   ],
   "source": [
    "def findKoefElast(data_regr):\n",
    "    '''\n",
    "    Нахождение вектора коэффициентов линейной регрессии в терминах эластичности. Берётся логарифм от dataframe с необходимыми\n",
    "    для предсказания параметрами и от вектора с зависимым параметром. Повторяет действия функции findKoef()'''\n",
    "    \n",
    "    data_elast = np.log(data_regr)\n",
    "    Y_elast = np.log(Y)\n",
    "    # пришлось дропнуть единичный столбец, иначе коэф корреляции один, не найдёт обратную\n",
    "    data_elast = data_elast.drop([\"FREE\"], axis = 1, inplace = False)\n",
    "    X_elast = data_elast.to_numpy()\n",
    "    X_T_elast = X_elast.transpose()  # транспонировали матрицу X\n",
    "    M_elast = np.dot(X_T_elast, X_elast)  # умножили X-трансп на Х\n",
    "    M_elast = np.linalg.inv(M_elast) # нашли обратную\n",
    "    P_elast = np.dot(X_T_elast, Y_elast) # умножили транспон Х на вектор Y\n",
    "    P_elast = np.dot(M_elast, P_elast)\n",
    "    return P_elast, X_elast\n",
    "\n",
    "P_elast, X_elast = findKoefElast(data_regr)\n",
    "print(\"Vector elast = \", P_elast) # вектор параметров - первый это свободный член\n"
   ]
  },
  {
   "cell_type": "markdown",
   "metadata": {},
   "source": [
    "### Предсказание цены в терминах эластичности. "
   ]
  },
  {
   "cell_type": "code",
   "execution_count": 9,
   "metadata": {},
   "outputs": [
    {
     "name": "stdout",
     "output_type": "stream",
     "text": [
      "94.78 75.0\n",
      "97.33 110.0\n",
      "58.23 63.0\n",
      "97.94 101.0\n",
      "122.0 142.0\n",
      "103.96 100.0\n",
      "85.67 103.0\n",
      "43.42 40.5\n",
      "44.96 47.0\n",
      "56.14 40.5\n",
      "83.61 65.0\n",
      "77.45 76.0\n",
      "93.22 93.0\n",
      "54.75 47.0\n",
      "58.73 53.0\n",
      "89.81 86.0\n",
      "90.5 115.0\n",
      "75.41 82.0\n",
      "59.78 53.0\n",
      "49.88 40.0\n",
      "51.68 57.0\n",
      "79.34 58.0\n",
      "51.28 48.0\n",
      "92.89 71.0\n",
      "79.6 55.0\n",
      "67.71 56.5\n",
      "94.1 133.0\n",
      "100.17 185.0\n",
      "85.63 94.0\n",
      "71.3 61.5\n",
      "60.55 56.0\n",
      "109.98 112.0\n",
      "137.63 255.0\n",
      "82.79 88.0\n",
      "139.95 75.0\n",
      "47.57 41.0\n",
      "53.3 51.0\n",
      "77.21 60.0\n",
      "65.96 74.5\n",
      "55.31 49.0\n",
      "82.61 58.0\n",
      "69.04 67.0\n",
      "67.47 62.0\n",
      "62.84 67.0\n",
      "88.53 53.0\n",
      "86.33 53.8\n",
      "49.31 52.0\n",
      "53.18 69.0\n",
      "87.19 112.5\n",
      "90.61 81.0\n",
      "54.88 53.0\n",
      "110.42 95.0\n",
      "97.2 86.0\n",
      "112.69 80.0\n",
      "48.43 58.0\n",
      "79.54 65.0\n",
      "54.39 49.5\n",
      "77.58 66.0\n",
      "50.95 52.0\n",
      "83.62 95.0\n",
      "87.64 85.0\n",
      "74.59 89.0\n",
      "57.67 59.5\n",
      "81.9 95.5\n",
      "114.28 80.0\n",
      "74.99 80.0\n",
      "114.67 145.0\n",
      "77.18 74.0\n",
      "88.58 83.0\n",
      "82.21 120.0\n",
      "89.1 89.0\n",
      "106.46 135.0\n",
      "137.03 125.0\n",
      "65.69 48.0\n",
      "59.01 69.0\n",
      "64.18 69.0\n",
      "77.24 90.0\n",
      "126.65 165.0\n",
      "93.47 207.0\n",
      "85.84 95.5\n",
      "91.68 111.5\n",
      "83.53 122.0\n",
      "94.7 105.0\n",
      "61.44 87.0\n",
      "57.06 87.0\n",
      "187.25 240.0\n",
      "110.16 145.0\n",
      "48.87 38.0\n",
      "83.19 103.0\n",
      "63.28 58.5\n",
      "84.96 106.0\n",
      "55.11 35.0\n",
      "57.99 58.0\n",
      "51.85 58.0\n",
      "84.16 69.0\n",
      "81.06 90.5\n",
      "66.52 68.0\n",
      "113.58 89.0\n",
      "114.2 117.0\n",
      "81.84 76.0\n",
      "52.71 78.0\n",
      "86.87 112.0\n",
      "105.03 77.0\n",
      "112.49 92.0\n",
      "77.54 89.0\n",
      "98.73 107.0\n",
      "83.47 75.0\n",
      "78.56 64.0\n",
      "86.12 86.0\n",
      "84.11 62.0\n",
      "122.46 110.0\n",
      "79.85 78.0\n",
      "58.54 67.0\n",
      "118.71 108.0\n",
      "72.65 95.0\n",
      "101.55 106.0\n",
      "64.71 62.0\n",
      "80.11 64.0\n",
      "108.35 93.0\n",
      "83.52 92.0\n"
     ]
    }
   ],
   "source": [
    "def printPriceElast(X_elast, P_elast, Y):\n",
    "    '''\n",
    "    Вывод предсказанного на основе параметров значения c взятием обратного логарифма в терминах эластичности и \n",
    "    вывод настоящего в форме X - Y.\n",
    "    Входные аргументы - numpy array с параметрами, необходимыми для предсказания, вектор коэффициентов, вектор с ценой'''\n",
    " \n",
    "    sum_of_parametres = 0\n",
    "    for j in range(len(X_elast)):\n",
    "        for i in range(0, 5):\n",
    "            sum_of_parametres += X_elast[j][i]*P_elast[i]\n",
    "        print(round(np.exp(sum_of_parametres),2), Y[j+288])\n",
    "        sum_of_parametres = 0\n",
    "\n",
    "printPriceElast(X_elast, P_elast, Y)"
   ]
  },
  {
   "cell_type": "code",
   "execution_count": 8,
   "metadata": {},
   "outputs": [
    {
     "name": "stdout",
     "output_type": "stream",
     "text": [
      "[1.0937005997077258, 0.2960969221820023, 0.49862049916229756, -0.17897215056501867, 0.0003307675114266284]\n"
     ]
    }
   ],
   "source": [
    "def findElastKoef(P, data_regr):\n",
    "    '''\n",
    "    Расчёт коэффициентов эластичности по вектору с коэффициентами линейной регрессии и dataframe с необходимыми\n",
    "    для предсказания переменными'''\n",
    "    \n",
    "    elast_koef = [0,0,0,0,0]\n",
    "    elast_koef[0] = P[1] * data_regr[\"LIVSQ\"].mean()/Y.mean()\n",
    "    elast_koef[1] = P[2] * data_regr[\"APPEN\"].mean()/Y.mean()\n",
    "    elast_koef[2] = P[3] * data_regr[\"KITSQ\"].mean()/Y.mean()\n",
    "    elast_koef[3] = P[4] * data_regr[\"DIST\"].mean()/Y.mean()\n",
    "    elast_koef[4] = P[5] * data_regr[\"METRDIST\"].mean()/Y.mean()\n",
    "    return elast_koef\n",
    "\n",
    "elast_koef = findElastKoef(P, data_regr)\n",
    "print(elast_koef)"
   ]
  },
  {
   "cell_type": "markdown",
   "metadata": {},
   "source": [
    "### Визуалицация зависимости цены от жилой площади"
   ]
  },
  {
   "cell_type": "code",
   "execution_count": 63,
   "metadata": {},
   "outputs": [
    {
     "data": {
      "text/plain": [
       "<matplotlib.axes._subplots.AxesSubplot at 0x22eb92bb470>"
      ]
     },
     "execution_count": 63,
     "metadata": {},
     "output_type": "execute_result"
    },
    {
     "data": {
      "image/png": "[encoded data removed]",
      "text/plain": [
       "<Figure size 432x288 with 1 Axes>"
      ]
     },
     "metadata": {
      "needs_background": "light"
     },
     "output_type": "display_data"
    }
   ],
   "source": [
    "import seaborn as sns\n",
    "\n",
    "data_plot_livsq = data[data['ROOM'] == 3]\n",
    "data_plot_livsq = data_plot_livsq[[\"PRICE\", \"LIVSQ\"]]\n",
    "sns.regplot(x=\"LIVSQ\", y=\"PRICE\", data=data_plot_livsq)"
   ]
  },
  {
   "cell_type": "markdown",
   "metadata": {},
   "source": [
    "### Визуалицация зависимости цены от площади кухни"
   ]
  },
  {
   "cell_type": "code",
   "execution_count": 65,
   "metadata": {},
   "outputs": [
    {
     "data": {
      "text/plain": [
       "<matplotlib.axes._subplots.AxesSubplot at 0x22eb9331080>"
      ]
     },
     "execution_count": 65,
     "metadata": {},
     "output_type": "execute_result"
    },
    {
     "data": {
      "image/png": "[encoded data removed]",
      "text/plain": [
       "<Figure size 432x288 with 1 Axes>"
      ]
     },
     "metadata": {
      "needs_background": "light"
     },
     "output_type": "display_data"
    }
   ],
   "source": [
    "data_plot_kitsq = data[data['ROOM'] == 3]\n",
    "data_plot_kitsq = data_plot_kitsq[[\"PRICE\", \"KITSQ\"]]\n",
    "sns.regplot(x=\"KITSQ\", y=\"PRICE\", data=data_plot_kitsq)"
   ]
  },
  {
   "cell_type": "code",
   "execution_count": 38,
   "metadata": {},
   "outputs": [
    {
     "name": "stdout",
     "output_type": "stream",
     "text": [
      "[ 1.95335503e+00  1.49056700e+00  4.92103501e+00 -1.48265326e+00\n",
      "  3.45591740e-03]\n"
     ]
    }
   ],
   "source": [
    "#проверка \n",
    "from sklearn.linear_model import LinearRegression\n",
    "regressor = LinearRegression()\n",
    "X = data[data['ROOM'] == 3]\n",
    "X = X.drop([\"WALK\", \"BRICK\", \"TEL\", \"BAL\", \"FLOOR\", \"ROOM\", \"PRICE\"], axis = 1, inplace = False)\n",
    "regressor.fit(X, Y)\n",
    "\n",
    "# display coefficients\n",
    "coef = regressor.coef_\n",
    "print(coef)"
   ]
  },
  {
   "cell_type": "code",
   "execution_count": null,
   "metadata": {},
   "outputs": [],
   "source": []
  },
  {
   "cell_type": "code",
   "execution_count": null,
   "metadata": {},
   "outputs": [],
   "source": []
  }
 ],
 "metadata": {
  "kernelspec": {
   "display_name": "Python 3",
   "language": "python",
   "name": "python3"
  },
  "language_info": {
   "codemirror_mode": {
    "name": "ipython",
    "version": 3
   },
   "file_extension": ".py",
   "mimetype": "text/x-python",
   "name": "python",
   "nbconvert_exporter": "python",
   "pygments_lexer": "ipython3",
   "version": "3.7.3"
  }
 },
 "nbformat": 4,
 "nbformat_minor": 2
}
